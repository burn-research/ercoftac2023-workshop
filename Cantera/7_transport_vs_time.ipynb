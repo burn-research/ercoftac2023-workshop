{
 "cells": [
  {
   "cell_type": "code",
   "execution_count": null,
   "metadata": {},
   "outputs": [],
   "source": [
    "!pip install cantera\n",
    "\n",
    "from tqdm import tqdm\n",
    "import cantera as ct\n",
    "import pandas as pd\n",
    "import time"
   ]
  },
  {
   "cell_type": "code",
   "execution_count": null,
   "metadata": {},
   "outputs": [],
   "source": [
    "# Define the conditions for the simulations\n",
    "transport_models = [\"multicomponent\", \"mixture-averaged\", \"unity-Lewis-number\"]\n",
    "T = 300\n",
    "p = ct.one_atm\n",
    "fuel = {\"H2\": 1}\n",
    "oxidizer = {\"O2\": 1, \"N2\": 3.76}\n",
    "equivalence_ratios = [0.5, 1.0, 2.0]\n",
    "\n",
    "# Create a pandas dataframe to store the results\n",
    "df_stats = pd.DataFrame(columns=[\"transport_model\", \"time\", \"mechanism\"])"
   ]
  },
  {
   "cell_type": "code",
   "execution_count": null,
   "metadata": {},
   "outputs": [],
   "source": [
    "#\n",
    "# Study of time vs mechanism: h2o2\n",
    "#\n",
    "n_simulations = 20\n",
    "times_per_mechanism = {}\n",
    "mech = \"h2o2.yaml\"\n",
    "for transport_model in transport_models:\n",
    "    print(f\"Running {n_simulations} simulations for mechanism {mech}\")\n",
    "    times = []\n",
    "    for i in tqdm(range(n_simulations), desc=f\"Mechanism {mech}\"):\n",
    "        delta_t = 0\n",
    "        for equivalence_ratio in equivalence_ratios:\n",
    "            gas = ct.Solution(mech)\n",
    "            gas.TPX = T, p, fuel\n",
    "            gas.set_equivalence_ratio(equivalence_ratio, fuel, oxidizer)\n",
    "            flame = ct.FreeFlame(gas, width=0.3)\n",
    "            flame.transport_model = transport_model\n",
    "\n",
    "            flame.energy_enabled = True\n",
    "            flame.set_refine_criteria(ratio=2, slope=0.05, curve=0.05, prune=0.01)\n",
    "\n",
    "            flame.set_max_jac_age(10, 10)\n",
    "            flame.set_time_step(1e-8, [10, 20, 40, 80, 100, 100, 150])\n",
    "            flame.max_time_step_count = 5000    \n",
    "\n",
    "            # Set steady-state tolerance to relative and absolute tolerances of 1e-15\n",
    "            flame.flame.set_steady_tolerances(default=[1.0e-5, 1.0e-9])\n",
    "            flame.flame.set_transient_tolerances(default=[1.0e-5, 1.0e-9])\n",
    "\n",
    "            start = time.time()\n",
    "            flame.solve(loglevel=0, auto=True)\n",
    "            end = time.time()\n",
    "            delta_t += end - start\n",
    "        times.append(delta_t)\n",
    "    times_per_mechanism[mech] = times\n",
    "    avg_time = sum(times)/n_simulations\n",
    "    print(f\"Transport {transport_model} took {avg_time:.2f} seconds on average\")\n",
    "    df_stats.loc[len(df_stats)] = [transport_model, avg_time, mech]"
   ]
  },
  {
   "cell_type": "code",
   "execution_count": null,
   "metadata": {},
   "outputs": [],
   "source": [
    "#\n",
    "# Study of time vs mechanism: gri30\n",
    "# \n",
    "n_simulations = 20\n",
    "times_per_mechanism = {}\n",
    "mech = \"gri30.yaml\"\n",
    "for transport_model in transport_models:\n",
    "    print(f\"Running {n_simulations} simulations for mechanism {mech}\")\n",
    "    times = []\n",
    "    for i in tqdm(range(n_simulations), desc=f\"Mechanism {mech}\"):\n",
    "        delta_t = 0\n",
    "        for equivalence_ratio in equivalence_ratios:\n",
    "            gas = ct.Solution(mech)\n",
    "            gas.TPX = T, p, fuel\n",
    "            gas.set_equivalence_ratio(equivalence_ratio, fuel, oxidizer)\n",
    "            flame = ct.FreeFlame(gas, width=0.3)\n",
    "            flame.transport_model = transport_model\n",
    "\n",
    "            flame.energy_enabled = True\n",
    "            flame.set_refine_criteria(ratio=2, slope=0.05, curve=0.05, prune=0.01)\n",
    "\n",
    "            flame.set_max_jac_age(10, 10)\n",
    "            flame.set_time_step(1e-8, [10, 20, 40, 80, 100, 100, 150])\n",
    "            flame.max_time_step_count = 5000    \n",
    "\n",
    "            # Set steady-state tolerance to relative and absolute tolerances of 1e-15\n",
    "            flame.flame.set_steady_tolerances(default=[1.0e-5, 1.0e-9])\n",
    "            flame.flame.set_transient_tolerances(default=[1.0e-5, 1.0e-9])\n",
    "\n",
    "            start = time.time()\n",
    "            flame.solve(loglevel=0, auto=True)\n",
    "            end = time.time()\n",
    "            delta_t += end - start\n",
    "        times.append(delta_t)\n",
    "    times_per_mechanism[mech] = times\n",
    "    avg_time = sum(times)/n_simulations\n",
    "    print(f\"Transport {transport_model} took {avg_time:.2f} seconds on average\")\n",
    "    df_stats.loc[len(df_stats)] = [transport_model, avg_time, mech]"
   ]
  }
 ],
 "metadata": {
  "kernelspec": {
   "display_name": "phd",
   "language": "python",
   "name": "python3"
  },
  "language_info": {
   "codemirror_mode": {
    "name": "ipython",
    "version": 3
   },
   "file_extension": ".py",
   "mimetype": "text/x-python",
   "name": "python",
   "nbconvert_exporter": "python",
   "pygments_lexer": "ipython3",
   "version": "3.10.13"
  }
 },
 "nbformat": 4,
 "nbformat_minor": 2
}
