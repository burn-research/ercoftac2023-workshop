{
 "cells": [
  {
   "cell_type": "code",
   "execution_count": null,
   "metadata": {},
   "outputs": [],
   "source": [
    "!pip install cantera\n",
    "\n",
    "import matplotlib.pyplot as plt\n",
    "import cantera as ct"
   ]
  },
  {
   "cell_type": "code",
   "execution_count": null,
   "metadata": {},
   "outputs": [],
   "source": [
    "# Define gas properties\n",
    "T = 300.0 \n",
    "p = ct.one_atm \n",
    "phi = 0.5 \n",
    "X_fuel = {\"H2\": 1.0} \n",
    "X_ox = {\"O2\": 1.0, \"N2\": 3.76}\n",
    "mechanism = \"h2o2.yaml\"\n",
    "width = 0.03 # m\n",
    "npoints = 19 # grid points - 1\n",
    "initial_grid = [x * width / npoints for x in range(npoints+1)]"
   ]
  },
  {
   "cell_type": "code",
   "execution_count": null,
   "metadata": {},
   "outputs": [],
   "source": [
    "#\n",
    "# Flame from initial grid\n",
    "#\n",
    "gas1 = ct.Solution(mechanism)\n",
    "gas1.TP = T, p\n",
    "gas1.set_equivalence_ratio(phi, X_fuel, X_ox)\n",
    "\n",
    "flame1 = ct.FreeFlame(gas1, grid=initial_grid)\n",
    "flame1.solve(loglevel=1)"
   ]
  },
  {
   "cell_type": "code",
   "execution_count": null,
   "metadata": {},
   "outputs": [],
   "source": [
    "#\n",
    "# Flame from width\n",
    "#\n",
    "gas2 = ct.Solution(mechanism)\n",
    "gas2.TP = T, p\n",
    "gas2.set_equivalence_ratio(phi, X_fuel, X_ox)\n",
    "\n",
    "flame2 = ct.FreeFlame(gas2, width=width)\n",
    "flame2.solve(loglevel=1)"
   ]
  },
  {
   "cell_type": "code",
   "execution_count": null,
   "metadata": {},
   "outputs": [],
   "source": [
    "#\n",
    "# Plot to see the difference in grid\n",
    "#\n",
    "fig, ax = plt.subplots()\n",
    "ax.plot(flame1.grid, flame1.T, label=\"Solution from initial grid\", marker=\"o\", color=\"k\", markersize=9)\n",
    "ax.plot(flame2.grid, flame2.T, label=\"Solution from width\", marker=\"o\", color=\"orange\", markerfacecolor=\"none\", markersize=9)\n",
    "ax.set_xlabel(r\"$x$ $[m]$\")\n",
    "ax.set_ylabel(r\"$T$ $[K]$\")\n",
    "ax.legend(fontsize=10)\n",
    "plt.show()"
   ]
  }
 ],
 "metadata": {
  "kernelspec": {
   "display_name": "phd",
   "language": "python",
   "name": "python3"
  },
  "language_info": {
   "codemirror_mode": {
    "name": "ipython",
    "version": 3
   },
   "file_extension": ".py",
   "mimetype": "text/x-python",
   "name": "python",
   "nbconvert_exporter": "python",
   "pygments_lexer": "ipython3",
   "version": "3.10.13"
  }
 },
 "nbformat": 4,
 "nbformat_minor": 2
}
