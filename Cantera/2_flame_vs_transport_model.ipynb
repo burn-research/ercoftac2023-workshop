{
 "cells": [
  {
   "cell_type": "code",
   "execution_count": null,
   "metadata": {},
   "outputs": [],
   "source": [
    "!pip install cantera\n",
    "\n",
    "import matplotlib.pyplot as plt\n",
    "import cantera as ct\n",
    "import numpy as np"
   ]
  },
  {
   "cell_type": "code",
   "execution_count": null,
   "metadata": {},
   "outputs": [],
   "source": [
    "# Define gas properties\n",
    "T = 300.0 \n",
    "p = ct.one_atm \n",
    "phi = 0.5\n",
    "X_fuel = {\"H2\": 1.0} \n",
    "X_ox = {\"O2\": 1.0, \"N2\": 3.76}\n",
    "mechanism = \"h2o2.yaml\"\n",
    "width = 0.03 # m"
   ]
  },
  {
   "cell_type": "code",
   "execution_count": null,
   "metadata": {},
   "outputs": [],
   "source": [
    "#\n",
    "# Calculate flames with different transport models\n",
    "#\n",
    "transport_models = [\"mixture-averaged\", \"unity-Lewis-number\", \"multicomponent\"]\n",
    "flames = {}\n",
    "\n",
    "for transport_model in transport_models:\n",
    "    gas = ct.Solution(mechanism)\n",
    "    gas.TP = T, p\n",
    "    gas.set_equivalence_ratio(phi, X_fuel, X_ox)\n",
    "\n",
    "    flame = ct.FreeFlame(gas, width=width)\n",
    "    flame.transport_model = transport_model\n",
    "    flame.solve(loglevel=1)\n",
    "    flames[transport_model] = flame"
   ]
  },
  {
   "cell_type": "code",
   "execution_count": null,
   "metadata": {},
   "outputs": [],
   "source": [
    "#\n",
    "# Plot temperature and velocity\n",
    "#\n",
    "\n",
    "linestyles = {\n",
    "    \"mixture-averaged\": \"-\",\n",
    "    \"unity-Lewis-number\": \"--\",\n",
    "    \"multicomponent\": \":\"\n",
    "}\n",
    "\n",
    "fig, axs = plt.subplots(nrows=2, ncols=1, figsize=(3, 4), sharex=True)\n",
    "\n",
    "for transport_model, flame in flames.items():\n",
    "    ax = axs[0]\n",
    "    ax.plot(flame.grid, flame.T, label=transport_model, linestyle=linestyles[transport_model])\n",
    "\n",
    "    ax = axs[1]\n",
    "    ax.plot(flame.grid, flame.velocity, linestyle=linestyles[transport_model])\n",
    "\n",
    "axs[0].set(ylabel=r\"$T$ $[K]$\")\n",
    "axs[1].set(xlabel=r\"$x$ $[m]$\", ylabel=r\"$u$ $[m/s]$\")\n",
    "\n",
    "axs[0].grid()\n",
    "axs[1].grid()\n",
    "\n",
    "# Fig.legend on top\n",
    "handles, labels = axs[0].get_legend_handles_labels()\n",
    "fig.legend(handles, labels, loc='upper center', ncol=3)\n",
    "fig.subplots_adjust(top=0.85)\n",
    "axs[0].set_title(r\"$\\phi = {}$\" .format(phi))\n",
    "\n",
    "plt.show()"
   ]
  }
 ],
 "metadata": {
  "kernelspec": {
   "display_name": "phd",
   "language": "python",
   "name": "python3"
  },
  "language_info": {
   "codemirror_mode": {
    "name": "ipython",
    "version": 3
   },
   "file_extension": ".py",
   "mimetype": "text/x-python",
   "name": "python",
   "nbconvert_exporter": "python",
   "pygments_lexer": "ipython3",
   "version": "3.10.13"
  }
 },
 "nbformat": 4,
 "nbformat_minor": 2
}
