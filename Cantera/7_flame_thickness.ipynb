{
 "cells": [
  {
   "cell_type": "code",
   "execution_count": 43,
   "metadata": {},
   "outputs": [],
   "source": [
    "!pip install cantera\n",
    "\n",
    "import matplotlib.pyplot as plt\n",
    "import cantera as ct\n",
    "import pandas as pd\n",
    "import numpy as np\n",
    "\n",
    "def derivative(grid, arr):\n",
    "    \"\"\"Gets derent of array over a given grid.\n",
    "    \"\"\"\n",
    "    der = np.zeros_like(grid)\n",
    "    if len(grid) == 1:\n",
    "        return der \n",
    "\n",
    "    for k in range(len(grid)):\n",
    "        if k == 0:\n",
    "            h0 = np.inf\n",
    "            h1 = grid[k + 1] - grid[k]\n",
    "            der[k] = (arr[k + 1] - arr[k]) / h1\n",
    "\n",
    "        elif k == len(grid) - 1:\n",
    "            h0 = grid[k] - grid[k - 1]\n",
    "            h1 = np.inf\n",
    "            der[k] = (arr[k] - arr[k - 1]) / h0\n",
    "        else:\n",
    "            h0 = grid[k] - grid[k - 1]\n",
    "            h1 = grid[k + 1] - grid[k]\n",
    "            der[k] = (\n",
    "                (arr[k + 1] * h0 / (h1 * (h0 + h1)))\n",
    "                + (arr[k] * (h1 - h0) / (h0 * h1))\n",
    "                - (arr[k - 1] * h1 / (h0 * (h0 + h1)))\n",
    "            )\n",
    "\n",
    "    return der \n"
   ]
  },
  {
   "cell_type": "code",
   "execution_count": 44,
   "metadata": {},
   "outputs": [],
   "source": [
    "# Define the gas mixture\n",
    "fuel = {\"H2\": 1.0}  # X_{fuel}\n",
    "oxidizer = {\"O2\": 1.0, \"N2\": 3.76} # X_{oxidizer}\n",
    "T = 300.0\n",
    "p = ct.one_atm\n",
    "equivalence_ratio = 1\n",
    "mechanism = \"h2o2.yaml\"\n",
    "transport_model = \"Mix\""
   ]
  },
  {
   "cell_type": "code",
   "execution_count": 50,
   "metadata": {},
   "outputs": [
    {
     "name": "stdout",
     "output_type": "stream",
     "text": [
      "Thermal Flame thickness: 3.328e-04 m\n",
      "Diffusive length scale: 1.983e-05 m\n"
     ]
    }
   ],
   "source": [
    "# gas\n",
    "# ... Initialize mixture\n",
    "\n",
    "# flame\n",
    "# ... Solve\n",
    "\n",
    "\n",
    "# Calculate thermal flame thickness\n",
    "#l_F =\n",
    "\n",
    "\n",
    "# Calculate diffusive length scale\n",
    "# Hints: \n",
    "# thermal conductivity = flame.thermal_conductivity\n",
    "# c_p = flame.cp\n",
    "# rho = flame.density\n",
    "#s_L = \n",
    "#D_t = \n",
    "#l_diff = \n",
    "\n",
    "print(f\"Thermal Flame thickness: {l_F:.3e} m\")\n",
    "print(f\"Diffusive length scale: {l_diff:.3e} m\")"
   ]
  },
  {
   "cell_type": "code",
   "execution_count": 1,
   "metadata": {},
   "outputs": [
    {
     "ename": "NameError",
     "evalue": "name 'plt' is not defined",
     "output_type": "error",
     "traceback": [
      "\u001b[1;31m---------------------------------------------------------------------------\u001b[0m",
      "\u001b[1;31mNameError\u001b[0m                                 Traceback (most recent call last)",
      "Cell \u001b[1;32mIn[1], line 1\u001b[0m\n\u001b[1;32m----> 1\u001b[0m fig, ax \u001b[38;5;241m=\u001b[39m \u001b[43mplt\u001b[49m\u001b[38;5;241m.\u001b[39msubplots(\u001b[38;5;241m1\u001b[39m, \u001b[38;5;241m1\u001b[39m)\n\u001b[0;32m      2\u001b[0m ax\u001b[38;5;241m.\u001b[39mplot(flame\u001b[38;5;241m.\u001b[39mgrid, flame\u001b[38;5;241m.\u001b[39mT, label\u001b[38;5;241m=\u001b[39m\u001b[38;5;124m\"\u001b[39m\u001b[38;5;124mT\u001b[39m\u001b[38;5;124m\"\u001b[39m)\n\u001b[0;32m      4\u001b[0m \u001b[38;5;66;03m# Plot horizontal line at x=0.02 and length of thermal flame thickness\u001b[39;00m\n",
      "\u001b[1;31mNameError\u001b[0m: name 'plt' is not defined"
     ]
    }
   ],
   "source": [
    "fig, ax = plt.subplots(1, 1)\n",
    "ax.plot(flame.grid, flame.T, label=\"T\")\n",
    "\n",
    "# Plot horizontal line at x=0.02 and length of thermal flame thickness\n",
    "x0 = 0.0209\n",
    "ax.hlines(\n",
    "    2000 ,\n",
    "    xmin=x0,\n",
    "    xmax=x0 + l_F,\n",
    "    linestyle=\"--\",\n",
    "    label=r\"$l_{F}$\",\n",
    ")\n",
    "\n",
    "x_diff = 0.0211\n",
    "ax.hlines(\n",
    "    2100 ,\n",
    "    xmin=x_diff,\n",
    "    xmax=x_diff + l_diff,\n",
    "    linestyle=\"dotted\",\n",
    "    label=r\"$l_{diff}$\",\n",
    ")\n",
    "\n",
    "ax.set_xlim(0.02085, 0.02135)\n",
    "ax.legend(loc=\"best\")\n",
    "ax.set_xlabel(r\"$x$ $[m]$\")\n",
    "ax.set_ylabel(r\"$T$ $[K]$\")"
   ]
  },
  {
   "cell_type": "markdown",
   "metadata": {},
   "source": [
    "# Part 2:"
   ]
  },
  {
   "cell_type": "code",
   "execution_count": null,
   "metadata": {},
   "outputs": [],
   "source": [
    "nflames = 21\n",
    "phis = np.linspace(0.5, 1.5, nflames)\n",
    "Zs = np.linspace(0.2, 0.5, nflames)\n",
    "flames = {}\n",
    "l_Fs = {}\n",
    "l_diffs = {}\n",
    "\n",
    "# Create loop\n",
    "#for phi in phis:\n",
    "# or\n",
    "#for Z in Zs:\n",
    "#   phi = f(Z)\n",
    "\n",
    "\n",
    "    # Gas mixture\n",
    "\n",
    "    # Flame object\n",
    "\n",
    "    # Solve\n",
    "\n",
    "    # Store flame object in dictionary\n",
    "    # flames[phi] = flame or flames[Z] = flame\n",
    "\n",
    "    # Calculate thermal flame thickness\n",
    "    #l_F = \n",
    "    #l_diff =\n",
    "\n",
    "    #l_Fs[phi] = l_F or l_diffs[Z] = l_diff\n",
    "    #l_diffs[phi] = l_diff or l_diffs[Z] = l_diff\n"
   ]
  },
  {
   "cell_type": "code",
   "execution_count": null,
   "metadata": {},
   "outputs": [],
   "source": [
    "# Plot\n",
    "fig, ax = plt.subplots(1, 1)\n",
    "ax.plot(phis, l_Fs, label=r\"$l_{F}$\", color=\"C0\")\n",
    "ax.plot(phis, l_diffs, label=r\"$l_{diff}$\", color=\"C1\")\n",
    "#ax.plot(Zs, l_Fs, label=r\"$l_{F}$\", color=\"C0\")\n",
    "#ax.plot(Zs, l_diffs, label=r\"$l_{diff}$\", color=\"C1\")\n",
    "\n",
    "ax.set_xlabel(r\"$\\phi$ $[-]$\")\n",
    "#ax.set_xlabel(r\"$Z$ $[-]$\")\n",
    "ax.set_ylabel(r\"$l$ $[m]$\")\n",
    "\n",
    "ax.legend(loc=\"best\")\n",
    "plt.show()"
   ]
  }
 ],
 "metadata": {
  "kernelspec": {
   "display_name": "phd",
   "language": "python",
   "name": "python3"
  },
  "language_info": {
   "codemirror_mode": {
    "name": "ipython",
    "version": 3
   },
   "file_extension": ".py",
   "mimetype": "text/x-python",
   "name": "python",
   "nbconvert_exporter": "python",
   "pygments_lexer": "ipython3",
   "version": "3.10.13"
  }
 },
 "nbformat": 4,
 "nbformat_minor": 2
}
