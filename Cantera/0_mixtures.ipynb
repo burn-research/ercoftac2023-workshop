{
 "cells": [
  {
   "cell_type": "code",
   "execution_count": null,
   "metadata": {},
   "outputs": [],
   "source": [
    "#!pip install cantera\n",
    "\n",
    "import matplotlib.pyplot as plt\n",
    "import cantera as ct"
   ]
  },
  {
   "cell_type": "code",
   "execution_count": null,
   "metadata": {},
   "outputs": [],
   "source": [
    "# \n",
    "# First mixture object\n",
    "#\n",
    "\n",
    "mechanism = \"gri30.yaml\"  \n",
    "gas = ct.Solution(mechanism)\n",
    "\n",
    "# A class for chemically-reacting solutions. Can epresent any type of solution – \n",
    "# a mixture of gases, a liquid solution, or a solid solution, for example.\n",
    "print(\"Mixture state for mechanism {}\".format(mechanism))\n",
    "print(gas())"
   ]
  },
  {
   "cell_type": "code",
   "execution_count": null,
   "metadata": {},
   "outputs": [],
   "source": [
    "#\n",
    "# Setting the state of a mixture (Method 1)\n",
    "#\n",
    "\n",
    "# Setup thermochemical state\n",
    "T_mix = 300.0 # K\n",
    "p_mix = ct.one_atm \n",
    "phi_mix = 0.5 \n",
    "X_fuel = {\"H2\": 1.0} \n",
    "X_oxidizer = {\"O2\": 1.0, \"N2\": 3.76} \n",
    "\n",
    "mechanism = \"h2o2.yaml\"  \n",
    "gas = ct.Solution(mechanism)\n",
    "gas.TP = T_mix, p_mix\n",
    "gas.set_equivalence_ratio(phi_mix, X_fuel, X_oxidizer, basis=\"mole\")\n",
    "\n",
    "print(\"Mixture state for mechanism {}\".format(mechanism))\n",
    "print(gas())"
   ]
  },
  {
   "cell_type": "code",
   "execution_count": null,
   "metadata": {},
   "outputs": [],
   "source": [
    "#\n",
    "# Setting the state of a mixture (Method 2)\n",
    "#\n",
    "\n",
    "# Setup thermochemical state\n",
    "T_mix = 300.0 # K\n",
    "p_mix = ct.one_atm \n",
    "phi_mix = 0.5 \n",
    "X_mix = {\"H2\": 0.17361, \"O2\": 0.17361, \"N2\": 0.65278} \n",
    "\n",
    "mechanism = \"h2o2.yaml\"  \n",
    "gas = ct.Solution(mechanism)\n",
    "gas.TPX = T_mix, p_mix, X_mix\n",
    "\n",
    "print(\"Mixture state for mechanism {}\".format(mechanism))\n",
    "print(gas())"
   ]
  },
  {
   "cell_type": "code",
   "execution_count": null,
   "metadata": {},
   "outputs": [],
   "source": [
    "#\n",
    "# Composition of mixture\n",
    "#\n",
    "plt.figure()\n",
    "plt.title(\"Mass fractions of species\")\n",
    "plt.bar(x=gas.species_names, height=gas.Y)\n",
    "plt.xticks(rotation=90)\n",
    "plt.ylabel(r\"$Y_k$ $[-]$\")\n",
    "plt.show()\n",
    "\n",
    "plt.figure()\n",
    "plt.title(\"Mole fractions of species\")\n",
    "plt.bar(x=gas.species_names, height=gas.X)\n",
    "plt.xticks(rotation=90)\n",
    "plt.ylabel(r\"$X_k$ $[-]$\")\n",
    "plt.show()"
   ]
  }
 ],
 "metadata": {
  "kernelspec": {
   "display_name": "phd",
   "language": "python",
   "name": "python3"
  },
  "language_info": {
   "codemirror_mode": {
    "name": "ipython",
    "version": 3
   },
   "file_extension": ".py",
   "mimetype": "text/x-python",
   "name": "python",
   "nbconvert_exporter": "python",
   "pygments_lexer": "ipython3",
   "version": "3.10.13"
  }
 },
 "nbformat": 4,
 "nbformat_minor": 2
}
