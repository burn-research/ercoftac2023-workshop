{
 "cells": [
  {
   "cell_type": "code",
   "execution_count": 2,
   "metadata": {},
   "outputs": [],
   "source": [
    "#!pip install cantera\n",
    "\n",
    "import matplotlib.pyplot as plt\n",
    "import cantera as ct"
   ]
  },
  {
   "cell_type": "code",
   "execution_count": 3,
   "metadata": {},
   "outputs": [
    {
     "name": "stdout",
     "output_type": "stream",
     "text": [
      "Mixture state for mechanism gri30.yaml\n",
      "\n",
      "  gri30:\n",
      "\n",
      "       temperature   300 K\n",
      "          pressure   1.0133e+05 Pa\n",
      "           density   0.081894 kg/m^3\n",
      "  mean mol. weight   2.016 kg/kmol\n",
      "   phase of matter   gas\n",
      "\n",
      "                          1 kg             1 kmol     \n",
      "                     ---------------   ---------------\n",
      "          enthalpy             26469             53361  J\n",
      "   internal energy       -1.2108e+06        -2.441e+06  J\n",
      "           entropy             64910        1.3086e+05  J/K\n",
      "    Gibbs function       -1.9447e+07       -3.9204e+07  J\n",
      " heat capacity c_p             14311             28851  J/K\n",
      " heat capacity c_v             10187             20536  J/K\n",
      "\n",
      "                      mass frac. Y      mole frac. X     chem. pot. / RT\n",
      "                     ---------------   ---------------   ---------------\n",
      "                H2                 1                 1           -15.717\n",
      "     [  +52 minor]                 0                 0  \n",
      "\n",
      "None\n"
     ]
    }
   ],
   "source": [
    "# \n",
    "# First mixture object\n",
    "#\n",
    "\n",
    "mechanism = \"gri30.yaml\"  \n",
    "gas = ct.Solution(mechanism)\n",
    "\n",
    "# A class for chemically-reacting solutions. Can epresent any type of solution – \n",
    "# a mixture of gases, a liquid solution, or a solid solution, for example.\n",
    "print(\"Mixture state for mechanism {}\".format(mechanism))\n",
    "print(gas())"
   ]
  },
  {
   "cell_type": "code",
   "execution_count": 4,
   "metadata": {},
   "outputs": [
    {
     "name": "stdout",
     "output_type": "stream",
     "text": [
      "Mixture state for mechanism h2o2.yaml\n",
      "\n",
      "  ohmech:\n",
      "\n",
      "       temperature   300 K\n",
      "          pressure   1.0133e+05 Pa\n",
      "           density   0.98273 kg/m^3\n",
      "  mean mol. weight   24.192 kg/kmol\n",
      "   phase of matter   gas\n",
      "\n",
      "                          1 kg             1 kmol     \n",
      "                     ---------------   ---------------\n",
      "          enthalpy            2262.9             54745  J\n",
      "   internal energy       -1.0084e+05       -2.4396e+06  J\n",
      "           entropy            7889.7        1.9087e+05  J/K\n",
      "    Gibbs function       -2.3646e+06       -5.7206e+07  J\n",
      " heat capacity c_p            1202.5             29091  J/K\n",
      " heat capacity c_v             858.8             20776  J/K\n",
      "\n",
      "                      mass frac. Y      mole frac. X     chem. pot. / RT\n",
      "                     ---------------   ---------------   ---------------\n",
      "                H2          0.014468           0.17361           -17.468\n",
      "                O2           0.22963           0.17361           -26.425\n",
      "                N2            0.7559           0.65278            -23.46\n",
      "     [   +7 minor]                 0                 0  \n",
      "\n",
      "None\n"
     ]
    }
   ],
   "source": [
    "#\n",
    "# Setting the state of a mixture (Method 1)\n",
    "#\n",
    "\n",
    "# Setup thermochemical state\n",
    "T_mix = 300.0 # K\n",
    "p_mix = ct.one_atm \n",
    "phi_mix = 0.5 \n",
    "X_fuel = {\"H2\": 1.0} \n",
    "X_oxidizer = {\"O2\": 1.0, \"N2\": 3.76} \n",
    "\n",
    "mechanism = \"h2o2.yaml\"  \n",
    "gas = ct.Solution(mechanism)\n",
    "gas.TP = T_mix, p_mix\n",
    "gas.set_equivalence_ratio(phi_mix, X_fuel, X_oxidizer, basis=\"mole\")\n",
    "\n",
    "print(\"Mixture state for mechanism {}\".format(mechanism))\n",
    "print(gas())"
   ]
  },
  {
   "cell_type": "code",
   "execution_count": 5,
   "metadata": {},
   "outputs": [
    {
     "name": "stdout",
     "output_type": "stream",
     "text": [
      "Mixture state for mechanism h2o2.yaml\n",
      "\n",
      "  ohmech:\n",
      "\n",
      "       temperature   300 K\n",
      "          pressure   1.0133e+05 Pa\n",
      "           density   0.98273 kg/m^3\n",
      "  mean mol. weight   24.192 kg/kmol\n",
      "   phase of matter   gas\n",
      "\n",
      "                          1 kg             1 kmol     \n",
      "                     ---------------   ---------------\n",
      "          enthalpy            2262.9             54745  J\n",
      "   internal energy       -1.0084e+05       -2.4396e+06  J\n",
      "           entropy            7889.7        1.9087e+05  J/K\n",
      "    Gibbs function       -2.3646e+06       -5.7206e+07  J\n",
      " heat capacity c_p            1202.5             29091  J/K\n",
      " heat capacity c_v             858.8             20776  J/K\n",
      "\n",
      "                      mass frac. Y      mole frac. X     chem. pot. / RT\n",
      "                     ---------------   ---------------   ---------------\n",
      "                H2          0.014467           0.17361           -17.468\n",
      "                O2           0.22963           0.17361           -26.425\n",
      "                N2           0.75591           0.65278            -23.46\n",
      "     [   +7 minor]                 0                 0  \n",
      "\n",
      "None\n"
     ]
    }
   ],
   "source": [
    "#\n",
    "# Setting the state of a mixture (Method 2)\n",
    "#\n",
    "\n",
    "# Setup thermochemical state\n",
    "T_mix = 300.0 # K\n",
    "p_mix = ct.one_atm \n",
    "phi_mix = 0.5 \n",
    "X_mix = {\"H2\": 0.17361, \"O2\": 0.17361, \"N2\": 0.65278} \n",
    "\n",
    "mechanism = \"h2o2.yaml\"  \n",
    "gas = ct.Solution(mechanism)\n",
    "gas.TPX = T_mix, p_mix, X_mix\n",
    "\n",
    "print(\"Mixture state for mechanism {}\".format(mechanism))\n",
    "print(gas())"
   ]
  },
  {
   "cell_type": "code",
   "execution_count": 6,
   "metadata": {},
   "outputs": [
    {
     "data": {
      "image/png": "[encoded data removed]",
      "text/plain": [
       "<Figure size 640x480 with 1 Axes>"
      ]
     },
     "metadata": {},
     "output_type": "display_data"
    },
    {
     "data": {
      "image/png": "[encoded data removed]",
      "text/plain": [
       "<Figure size 640x480 with 1 Axes>"
      ]
     },
     "metadata": {},
     "output_type": "display_data"
    }
   ],
   "source": [
    "#\n",
    "# Composition of mixture\n",
    "#\n",
    "plt.figure()\n",
    "plt.title(\"Mass fractions of species\")\n",
    "plt.bar(x=gas.species_names, height=gas.Y)\n",
    "plt.xticks(rotation=90)\n",
    "plt.ylabel(r\"$Y_k$ $[-]$\")\n",
    "plt.show()\n",
    "\n",
    "plt.figure()\n",
    "plt.title(\"Mole fractions of species\")\n",
    "plt.bar(x=gas.species_names, height=gas.X)\n",
    "plt.xticks(rotation=90)\n",
    "plt.ylabel(r\"$X_k$ $[-]$\")\n",
    "plt.show()"
   ]
  }
 ],
 "metadata": {
  "kernelspec": {
   "display_name": "phd",
   "language": "python",
   "name": "python3"
  },
  "language_info": {
   "codemirror_mode": {
    "name": "ipython",
    "version": 3
   },
   "file_extension": ".py",
   "mimetype": "text/x-python",
   "name": "python",
   "nbconvert_exporter": "python",
   "pygments_lexer": "ipython3",
   "version": "3.10.13"
  }
 },
 "nbformat": 4,
 "nbformat_minor": 2
}
