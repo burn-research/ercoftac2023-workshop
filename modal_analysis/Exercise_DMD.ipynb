{
 "cells": [
  {
   "cell_type": "markdown",
   "metadata": {},
   "source": [
    "# Exercise 2: Dynamic Mode Decomposition\n",
    "\n",
    "The DMD is a modal analysis technique that is very commonly used to analyse dynamical systems such as reactive turbulent flows. The objective is to find a linear approximation of the dynamical system such that:\n",
    "\n",
    "\\begin{equation}\n",
    "    \\mathbf{x}_{k+1} = \\mathbf{A} \\mathbf{x}_{k}.\n",
    "\\end{equation}\n",
    "\n",
    "The matrix $\\mathbf{A}$ advances the state of the system $\\mathbf{x}_k$ to the next time $k+1$. In theory, if we split the data matrix $\\mathbf{X}$ into $\\mathbf{X}_1$ and $\\mathbf{X}_2$, where $\\mathbf{X}_1$ contains the snapshots from $k=0$ to $k=m-1$ and $\\mathbf{X}_2$ contains the snapshots from $k=1$ to $k=m$, we can compute $\\mathbf{A}$ as the solution of a least-squares regression problem:\n",
    "\n",
    "\\begin{equation}\n",
    "    \\mathbf{A} = \\mathbf{X}_2 \\mathbf{X}_1^+,\n",
    "\\end{equation}\n",
    "\n",
    "where $\\mathbf{X}_1^+$ denotes the pseudo-inverse of the matrix $\\mathbf{X}_1$. However, the matrix $\\mathbf{A}$ has dimensions $n \\times n$, meaning that for practial applications it is impossible to directly compute it.\n",
    "\n",
    "There exist various algorithms to estimate the eigenvectors and eigenvalues of $\\mathbf{A}$, which generally rely on the POD to reduce the dimensionality of the problem. We report the \"Exact DMD\" algorithm from Tu et al. [[2]](https://arxiv.org/pdf/1312.0041.pdf).\n",
    "\n",
    "## Algorithm \n",
    "\n",
    "- Center the dataset by removing the time-average field $\\mathbf{X}_0 = \\mathbf{X} - \\bar{\\mathbf{x}}$.\n",
    "\n",
    "- Split the centered matrix into the matrices $\\mathbf{X}_{0,1}$ and $\\mathbf{X}_{0,2}$, where $\\mathbf{X}_{0,1}$ contains the snapshots from $k=1$ to $k=m-1$ and $\\mathbf{X}_{0,2}$ contains the snapshots from $k=2$ to $k=m$.\n",
    "\n",
    "- Compute the SVD: $\\mathbf{X}_{0,1} = \\mathbf{U} \\boldsymbol{\\Sigma} \\mathbf{V}^T$.\n",
    "\n",
    "- Compute the approximation: $\\widetilde{\\mathbf{A}} = \\mathbf{U}^T \\mathbf{X}_{0,2} \\mathbf{V} \\boldsymbol{\\Sigma}^{-1}$.\n",
    "\n",
    "- Compute its eigendecomposition: $\\widetilde{\\mathbf{A}} = \\mathbf{W}\\boldsymbol{\\Lambda}\\mathbf{W}^T$. $\\boldsymbol{\\Lambda}$ contains the DMD eigenvalues.\n",
    "\n",
    "- Compute the DMD modes $\\boldsymbol{\\Phi} = \\mathbf{X}_{0,2} \\mathbf{V} \\boldsymbol{\\Sigma}^{-1} \\mathbf{W}$.\n",
    "\n",
    "- Compute the amplitude of the modes as $\\mathbf{b} = \\boldsymbol{\\Phi}^{+} \\mathbf{x}_{,1}$, where $\\mathbf{x}_{0,1}$ is the first snapshot.\n",
    "\n",
    "- The prediction in time is represented as $\\mathbf{x}_k = \\boldsymbol{\\Phi} \\boldsymbol{\\Lambda}^{k} \\mathbf{b}$ (discrete) or by $\\mathbf{x}(t) = \\boldsymbol{\\Phi} \\exp(\\boldsymbol{\\Omega} t) \\mathbf{b}$ (continuous) with $\\boldsymbol{\\omega} = \\log(\\boldsymbol{\\lambda})/ \\Delta t$\n",
    "\n",
    "\n",
    "\n",
    "\n",
    "## Properties\n",
    "\n",
    "- As the POD, the DMD decouples the spatial information in $\\boldsymbol{\\Phi}$ from the temporal information in $\\boldsymbol{\\Lambda}$.\n",
    "\n",
    "- The DMD modes are not orthogonal. This means that, for example, the energy content of a group of modes is not the sum of the energy of the single modes, because they can have partially overlapping energy. \n",
    "\n",
    "- The identification of the most important modes is not straightforward. Generally, we sort them by the amplitude or by the average energy content.\n",
    "\n",
    "- The interpretation of modes with a decaying or exploding growth factors is challenging because they could represent either a non-linear physical phenomenon or noise.\n",
    "\n",
    "\n"
   ]
  },
  {
   "cell_type": "code",
   "execution_count": 58,
   "metadata": {},
   "outputs": [],
   "source": [
    "# Task 1: center the training matrix and split it into X01 and X02. \n",
    "#         Check the shape of the two matrices.\n",
    "\n",
    "import numpy as np\n",
    "import matplotlib.pyplot as plt\n",
    "\n",
    "X = np.load('X_100_r64.npy')\n",
    "# Use this one on the cluster\n",
    "# X = np.load('/home/nct00/nct00006/ercoftac2023/X_100_r64.npy') \n",
    "\n",
    "resolution = (64, 64)\n",
    "dt = 1/2500\n",
    "n, m = X.shape"
   ]
  },
  {
   "cell_type": "code",
   "execution_count": 59,
   "metadata": {},
   "outputs": [],
   "source": [
    "# Task 2: compute the SVD on matrix X01 and invert the matrix Sigma\n"
   ]
  },
  {
   "cell_type": "code",
   "execution_count": 60,
   "metadata": {},
   "outputs": [],
   "source": [
    "# Task 3: compute the approximation A_tilde and compute its eigendecomposition.\n",
    "#         plot the eigenvalues on the complex plane and check if they lie on the unity circle.\n"
   ]
  },
  {
   "cell_type": "code",
   "execution_count": 61,
   "metadata": {},
   "outputs": [],
   "source": [
    "# Task 4: compute the DMD modes and the amplitudes vector. \n",
    "#         Sort the modes and the eigenvectors by the amplitudes (absolute value), in decreasing order.\n",
    "\n"
   ]
  },
  {
   "cell_type": "code",
   "execution_count": 62,
   "metadata": {},
   "outputs": [],
   "source": [
    "# Task 5: compute the frequency of the modes. Plot the first 6 DMD modes and their frequency.\n",
    "#         compare them with the first 6 POD modes.\n",
    "\n",
    "# Hint: the frequency of the modes can be calculate considering that omega = log(lambda)/dt\n"
   ]
  },
  {
   "cell_type": "code",
   "execution_count": 63,
   "metadata": {},
   "outputs": [],
   "source": [
    "# Task 6: reconstruct the dataset using 128 modes. \n",
    "#         Compare the error with the POD reconstruction error using the same number of modes.\n",
    "#         The reconstruction error is defined as the Frobenius norm of the difference\n",
    "#         between the observed and reconstructed matrices.\n",
    "\n",
    "\n",
    "# Hint: use the function np.linalg.norm to compute the Frobenius norm\n"
   ]
  },
  {
   "cell_type": "code",
   "execution_count": 64,
   "metadata": {},
   "outputs": [],
   "source": [
    "# Task 7: plot the reconstruction error as a function of q for \n",
    "#         q = [16, 32, 64, 128, 256, 512, 768, 896, 1024] for both POD and DMD\n",
    "\n"
   ]
  },
  {
   "cell_type": "code",
   "execution_count": 65,
   "metadata": {},
   "outputs": [],
   "source": [
    "# Task 8: apply the DMD on the uncentered data and compared the uncentered modes with the centered ones\n",
    "\n"
   ]
  },
  {
   "cell_type": "code",
   "execution_count": 66,
   "metadata": {},
   "outputs": [],
   "source": [
    "# Task 9: find the uncentered mode with the biggest growth coefficient.\n",
    "#         plot its temporal behaviour (lamda*b) in time from n = 0 to n = 256\n"
   ]
  }
 ],
 "metadata": {
  "kernelspec": {
   "display_name": "env_ml2",
   "language": "python",
   "name": "python3"
  },
  "language_info": {
   "codemirror_mode": {
    "name": "ipython",
    "version": 3
   },
   "file_extension": ".py",
   "mimetype": "text/x-python",
   "name": "python",
   "nbconvert_exporter": "python",
   "pygments_lexer": "ipython3",
   "version": "3.9.16"
  }
 },
 "nbformat": 4,
 "nbformat_minor": 2
}
