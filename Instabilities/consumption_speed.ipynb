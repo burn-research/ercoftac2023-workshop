{
 "cells": [
  {
   "cell_type": "code",
   "execution_count": null,
   "metadata": {},
   "outputs": [],
   "source": [
    "import matplotlib.pyplot as plt\n",
    "import numpy as np"
   ]
  },
  {
   "cell_type": "code",
   "execution_count": null,
   "metadata": {},
   "outputs": [],
   "source": [
    "# ----------------------------------------------\n",
    "# Input files\n",
    "# ----------------------------------------------\n",
    "path_data = \"path/to/data/data_integrated....\"\n",
    "\n",
    "# Reference case\n",
    "s_L = 0.4913988828547467\n",
    "rho_u = 0.9894\n",
    "Yk_H2_u = 0.01446\n",
    "L_x = 0.1058\n",
    "\n",
    "# High temperature case\n",
    "#s_L = 5.30\n",
    "#rho_u = 0.4212\n",
    "#Yk_H2_u = 0.01446\n",
    "#L_x = 0.05\n",
    "\n",
    "# High pressure case\n",
    "#s_L = 0.22\n",
    "#L_x = 0.0115\n",
    "#rho_u = 4.94\n",
    "#Yk_H2_u = 0.01446\n",
    "\n",
    "# ----------------------------------------------\n",
    "\n",
    "columns = [\"TimeStep\", \"Time\", \"CON01\",\"CON02\",\"CON03\",\"CON04\",\"CON05\",\"CON06\",\"CON07\",\"CON08\",\"CON09\",\"CONDU\",\"DENSI\",\"DRHOD\",\"ELEMH\",\"ELEMO\",\"ENTHA\",\"HRR  \",\"MOLEC\",\"PRESS\",\"Q_   \",\"SH   \",\"SH2  \",\"SH2O \",\"SHO2 \",\"SN2  \",\"SO   \",\"SO2  \",\"SOH  \",\"TEMPE\",\"VELOC:0\",\"VELOC:1\",\"VISCO\",\"XFIEL\",\"Z\",\"x\",\"y\",\"z\"]"
   ]
  },
  {
   "cell_type": "code",
   "execution_count": null,
   "metadata": {},
   "outputs": [],
   "source": [
    "# Read data\n",
    "data = np.genfromtxt(path_data, delimiter=',', skip_header=2)\n",
    "print(data.shape)"
   ]
  },
  {
   "cell_type": "code",
   "execution_count": null,
   "metadata": {},
   "outputs": [],
   "source": [
    "\n",
    "col = \"SH2  \"\n",
    "integrated_SH2 = data[:,columns.index(col)]\n",
    "time = data[:,columns.index(\"Time\")]\n",
    "consumption_speed = - integrated_SH2 / (rho_u * Yk_H2_u * L_x)"
   ]
  },
  {
   "cell_type": "code",
   "execution_count": null,
   "metadata": {},
   "outputs": [],
   "source": [
    "# Plot scaled\n",
    "fig, ax = plt.subplots()\n",
    "ax.plot(time, consumption_speed / s_L, marker='o', linestyle='None')\n",
    "\n",
    "ax.set(xlabel=r\"$t$ $[s]$\", ylabel=r\"$s_{C}/s_{L}$ $[-]$\")\n",
    "ax.grid()"
   ]
  }
 ],
 "metadata": {
  "kernelspec": {
   "display_name": "Python 3",
   "language": "python",
   "name": "python3"
  },
  "language_info": {
   "codemirror_mode": {
    "name": "ipython",
    "version": 3
   },
   "file_extension": ".py",
   "mimetype": "text/x-python",
   "name": "python",
   "nbconvert_exporter": "python",
   "pygments_lexer": "ipython3",
   "version": "3.9.13"
  }
 },
 "nbformat": 4,
 "nbformat_minor": 2
}
