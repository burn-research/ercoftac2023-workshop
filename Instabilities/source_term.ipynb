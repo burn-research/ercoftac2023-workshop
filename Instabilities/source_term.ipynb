{
 "cells": [
  {
   "cell_type": "code",
   "execution_count": null,
   "metadata": {},
   "outputs": [],
   "source": [
    "import matplotlib.pyplot as plt\n",
    "import cantera as ct\n",
    "import pandas as pd"
   ]
  },
  {
   "cell_type": "code",
   "execution_count": null,
   "metadata": {},
   "outputs": [],
   "source": [
    "# ------------------------------------------------------------\n",
    "# Input\n",
    "# ------------------------------------------------------------\n",
    "path_data = \"path/to/data/data_SH2_vs_Z_....csv\"\n",
    "path_mech = \"path/to/mech_H2Burke.yaml\"\n",
    "\n",
    "# Reference \n",
    "T = 298\n",
    "p = 1 * ct.one_atm\n",
    "\n",
    "# High temperature\n",
    "#T = 500\n",
    "#p = 1 * ct.one_atm\n",
    "\n",
    "# High pressure\n",
    "#T = 298\n",
    "#p = 5 * ct.one_atm\n",
    "\n",
    "# ------------------------------------------------------------\n",
    "\n",
    "columns = [\"TimeStep\",\"Time\",\"SH2  \", \"TEMPE\",\"Z\",\"x\",\"y\",\"z\"]"
   ]
  },
  {
   "cell_type": "code",
   "execution_count": null,
   "metadata": {},
   "outputs": [],
   "source": [
    "data = pd.read_csv(path_data, names=columns, skiprows=1)\n",
    "print(len(data))\n",
    "data.head()"
   ]
  },
  {
   "cell_type": "code",
   "execution_count": null,
   "metadata": {},
   "outputs": [],
   "source": [
    "\n",
    "\n",
    "X_fuel = {\"H2\": 1.0}\n",
    "X_ox = {\"O2\": 1.0, \"N2\": 3.76}\n",
    "gas = ct.Solution(path_mech)\n",
    "\n",
    "gas.TP = T, p\n",
    "gas.set_equivalence_ratio(phi=0.5, fuel=X_fuel, oxidizer=X_ox)\n",
    "\n",
    "flame = ct.FreeFlame(gas, width=0.3)\n",
    "flame.transport_model = \"mixture-averaged\"\n",
    "\n",
    "flame.energy_enabled = True\n",
    "flame.set_refine_criteria(ratio=2, slope=0.05, curve=0.05, prune=0.01)\n",
    "\n",
    "flame.set_max_jac_age(10, 10)\n",
    "flame.set_time_step(1e-8, [10, 20, 40, 80, 100, 100, 150])\n",
    "flame.max_time_step_count = 5000    \n",
    "\n",
    "# Set steady-state tolerance to relative and absolute tolerances of 1e-15\n",
    "flame.flame.set_steady_tolerances(default=[1.0e-5, 1.0e-9])\n",
    "flame.flame.set_transient_tolerances(default=[1.0e-5, 1.0e-9])\n",
    "flame.solve(loglevel=0, auto=True)\n"
   ]
  },
  {
   "cell_type": "code",
   "execution_count": null,
   "metadata": {},
   "outputs": [],
   "source": [
    "fig, ax = plt.subplots(1, 1, figsize=(10, 5))\n",
    "ax.scatter(data[\"TEMPE\"], data[\"SH2  \"], label=\"Data\")\n",
    "ax.plot(\n",
    "    flame.T, \n",
    "    gas.molecular_weights[gas.species_index(\"H2\")] * flame.net_production_rates[gas.species_index(\"H2\"), :], \n",
    "    label=\"1D flame\", color=\"black\")\n",
    "ax.set_xlabel(r\"$T$ $[K]$\")\n",
    "ax.set_ylabel(r\"$\\dot{\\omega}_{H_2}$ $[kg/m^3 s]$\")\n",
    "ax.legend()"
   ]
  }
 ],
 "metadata": {
  "kernelspec": {
   "display_name": "phd",
   "language": "python",
   "name": "python3"
  },
  "language_info": {
   "codemirror_mode": {
    "name": "ipython",
    "version": 3
   },
   "file_extension": ".py",
   "mimetype": "text/x-python",
   "name": "python",
   "nbconvert_exporter": "python",
   "pygments_lexer": "ipython3",
   "version": "3.9.13"
  }
 },
 "nbformat": 4,
 "nbformat_minor": 2
}
